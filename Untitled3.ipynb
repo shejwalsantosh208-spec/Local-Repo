{
  "nbformat": 4,
  "nbformat_minor": 0,
  "metadata": {
    "colab": {
      "provenance": [],
      "mount_file_id": "1ZKkOtxYSRm-0h1jeuUOqY86InhsflhQb",
      "authorship_tag": "ABX9TyN+usO1CWc5ueLpH230NTS2",
      "include_colab_link": true
    },
    "kernelspec": {
      "name": "python3",
      "display_name": "Python 3"
    },
    "language_info": {
      "name": "python"
    }
  },
  "cells": [
    {
      "cell_type": "markdown",
      "metadata": {
        "id": "view-in-github",
        "colab_type": "text"
      },
      "source": [
        "<a href=\"https://colab.research.google.com/github/shejwalsantosh208-spec/Local-Repo/blob/main/Untitled3.ipynb\" target=\"_parent\"><img src=\"https://colab.research.google.com/assets/colab-badge.svg\" alt=\"Open In Colab\"/></a>"
      ]
    },
    {
      "cell_type": "code",
      "execution_count": 17,
      "metadata": {
        "colab": {
          "base_uri": "https://localhost:8080/"
        },
        "id": "9xT-zxbqA05C",
        "outputId": "f14a03d2-8ed9-4518-d258-fb34158abc64"
      },
      "outputs": [
        {
          "output_type": "stream",
          "name": "stdout",
          "text": [
            "[' ', ',', '-', '.', '1', '3', '4', '5', '8', '9', 'A', 'B', 'C', 'D', 'H', 'I', 'K', 'M', 'N', 'P', 'R', 'S', 'U', 'V', 'W', '[', ']', 'a', 'b', 'c', 'd', 'e', 'f', 'g', 'h', 'i', 'j', 'k', 'l', 'm', 'n', 'o', 'p', 'q', 'r', 's', 't', 'u', 'v', 'w', 'x', 'y']\n",
            "52\n"
          ]
        }
      ],
      "source": [
        "import torch\n",
        "\n",
        "with open('/content/Kohli.txt', 'r', encoding='utf-8') as f:\n",
        "    text = f.read()\n",
        "\n",
        "#print(text[:200])\n",
        "chars = sorted(set(text))\n",
        "print(chars)\n",
        "print(len(chars))\n"
      ]
    },
    {
      "cell_type": "code",
      "source": [
        "string_to_int = {ch: i for i, ch in enumerate(chars)}\n",
        "int_to_string = {i: ch for i, ch in enumerate(chars)}\n",
        "\n",
        "encode = lambda s: [string_to_int[c] for c in s]\n",
        "decode = lambda l: ''.join([int_to_string[i] for i in l])\n",
        "\n",
        "print(encode('Saibaba'))\n",
        "print(decode(encode('Saibaba')))\n"
      ],
      "metadata": {
        "colab": {
          "base_uri": "https://localhost:8080/"
        },
        "id": "vrWDIfUvEgpO",
        "outputId": "ece6be54-e9b2-4d76-b72a-cb40eec48741"
      },
      "execution_count": 18,
      "outputs": [
        {
          "output_type": "stream",
          "name": "stdout",
          "text": [
            "[21, 27, 35, 28, 27, 28, 27]\n",
            "Saibaba\n"
          ]
        }
      ]
    },
    {
      "cell_type": "code",
      "source": [
        "string_to_int = {ch: i for i, ch in enumerate(chars)}\n",
        "int_to_string = {i: ch for i, ch in enumerate(chars)}\n",
        "\n",
        "encode = lambda s: [string_to_int[c] for c in s]\n",
        "decode = lambda l: ''.join([int_to_string[i] for i in l])\n",
        "\n",
        "data = torch.tensor(encode(text), dtype=torch.long)\n",
        "print(data[:100])\n"
      ],
      "metadata": {
        "colab": {
          "base_uri": "https://localhost:8080/"
        },
        "id": "zcTo352aFCZY",
        "outputId": "f60ea070-10d8-4aa5-aa98-0207a4009a57"
      },
      "execution_count": 19,
      "outputs": [
        {
          "output_type": "stream",
          "name": "stdout",
          "text": [
            "tensor([16, 41, 34, 38, 35,  0, 49, 27, 45,  0, 28, 41, 44, 40,  0, 41, 40,  0,\n",
            "         7,  0, 18, 41, 48, 31, 39, 28, 31, 44,  0,  4,  9,  8,  8,  0, 35, 40,\n",
            "         0, 13, 31, 38, 34, 35,  0, 35, 40, 46, 41,  0, 27,  0, 19, 47, 40, 36,\n",
            "        27, 28, 35,  0, 14, 35, 40, 30, 47,  0, 32, 27, 39, 35, 38, 51,  3,  0,\n",
            "        14, 35, 45,  0, 39, 41, 46, 34, 31, 44,  0, 21, 27, 44, 41, 36,  0, 16,\n",
            "        41, 34, 38, 35,  0, 35, 45,  0, 27, 45])\n"
          ]
        }
      ]
    },
    {
      "cell_type": "code",
      "source": [
        "n = int(0.8 * len(data))\n",
        "train_data = data[:n]\n",
        "val_data = data[n:]  # use the rest for validation\n",
        "\n",
        "block_size = 8\n",
        "x = train_data[:block_size]\n",
        "y = train_data[1:block_size+1]\n",
        "\n",
        "for t in range(block_size):\n",
        "    context = x[:t+1]\n",
        "    target = y[t]\n",
        "    print('when input is', context, 'target is', target)\n"
      ],
      "metadata": {
        "colab": {
          "base_uri": "https://localhost:8080/"
        },
        "id": "Q2uhH3svFeIp",
        "outputId": "3b6678ad-d580-4c50-83ac-ba6dbb056229"
      },
      "execution_count": 20,
      "outputs": [
        {
          "output_type": "stream",
          "name": "stdout",
          "text": [
            "when input is tensor([16]) target is tensor(41)\n",
            "when input is tensor([16, 41]) target is tensor(34)\n",
            "when input is tensor([16, 41, 34]) target is tensor(38)\n",
            "when input is tensor([16, 41, 34, 38]) target is tensor(35)\n",
            "when input is tensor([16, 41, 34, 38, 35]) target is tensor(0)\n",
            "when input is tensor([16, 41, 34, 38, 35,  0]) target is tensor(49)\n",
            "when input is tensor([16, 41, 34, 38, 35,  0, 49]) target is tensor(27)\n",
            "when input is tensor([16, 41, 34, 38, 35,  0, 49, 27]) target is tensor(45)\n"
          ]
        }
      ]
    }
  ]
}